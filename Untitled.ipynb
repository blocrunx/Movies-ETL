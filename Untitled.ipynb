{
 "cells": [
  {
   "cell_type": "code",
   "execution_count": null,
   "metadata": {},
   "outputs": [],
   "source": [
    "# Function to get json data and check to make sure there were no problems importing.\n",
    "# **Note file_dir path will need to be changed for different users**\n",
    "def get_wiki_data():\n",
    "    try:\n",
    "        \n",
    "        file_dir = \"C:/Users/16136/Desktop/DA Class Folder/Git/Movies-ETL\"\n",
    "        with open (f'{file_dir}/Resources/wikipedia.movies.json', mode='r')as file:\n",
    "            wiki_movies_raw = json.load(file)\n",
    "        print(f\"Successfully loaded file.\")\n",
    "    except:\n",
    "        print(\"Error loading file.\")\n",
    "   \n",
    "    try:\n",
    "        if len(wiki_movies_raw) == 7311:\n",
    "            wiki_movies_df = pd.DataFrame(wiki_movies_raw)\n",
    "            print(f\"json data matches specified requirements.\")\n",
    "        else:\n",
    "            print(\"Error importing json data. Please try again.\")\n",
    "    except:\n",
    "        print(f\"Error occurred after file was loaded\")\n",
    "    return wiki_movies_df"
   ]
  },
  {
   "cell_type": "code",
   "execution_count": null,
   "metadata": {},
   "outputs": [],
   "source": [
    "# Function to get the kagggle meta_data\n",
    "def get_kaggle_data():\n",
    "    try:\n",
    "        file_path_kaggle_metadata = os.path.join('Resources', 'movies_metadata.csv')\n",
    "        kaggle_metadata = pd.read_csv(file_path_kaggle_metadata, low_memory=False)\n",
    "        print(f\"Kaggle data successfully loaded.\")\n",
    "        return kaggle_metadata \n",
    "    except:\n",
    "        print(f\"Error occurred importing Kaggle Metadata.\")    "
   ]
  },
  {
   "cell_type": "code",
   "execution_count": null,
   "metadata": {},
   "outputs": [],
   "source": [
    "# Function to get the ratings data\n",
    "def get_ratings_data():\n",
    "    try:\n",
    "        file_path_ratings = os.path.join('Resources', 'ratings.csv')\n",
    "        ratings = pd.read_csv(file_path_ratings, low_memory=False)\n",
    "        print(f\"Ratings data successfully imported.\")\n",
    "        return ratings\n",
    "    except:\n",
    "        print(f\"Error occurred importing Kaggle data.\")"
   ]
  }
 ],
 "metadata": {
  "kernelspec": {
   "display_name": "Python 3",
   "language": "python",
   "name": "python3"
  },
  "language_info": {
   "codemirror_mode": {
    "name": "ipython",
    "version": 3
   },
   "file_extension": ".py",
   "mimetype": "text/x-python",
   "name": "python",
   "nbconvert_exporter": "python",
   "pygments_lexer": "ipython3",
   "version": "3.7.6"
  }
 },
 "nbformat": 4,
 "nbformat_minor": 4
}
